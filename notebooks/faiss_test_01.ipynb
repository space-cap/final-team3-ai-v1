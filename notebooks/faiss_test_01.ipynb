{
 "cells": [
  {
   "cell_type": "code",
   "execution_count": 1,
   "id": "34c3d041",
   "metadata": {},
   "outputs": [
    {
     "data": {
      "text/plain": [
       "2"
      ]
     },
     "execution_count": 1,
     "metadata": {},
     "output_type": "execute_result"
    }
   ],
   "source": [
    "1+1"
   ]
  },
  {
   "cell_type": "markdown",
   "id": "5437171e",
   "metadata": {},
   "source": [
    "## 1. FAISS 설치\n",
    "\n",
    "먼저 FAISS를 설치해야 합니다. CPU 버전과 GPU 버전이 있습니다:[3][4]\n",
    "\n",
    "**CPU 버전 설치:**\n",
    "```bash\n",
    "pip install faiss-cpu\n",
    "```\n",
    "\n",
    "**GPU 버전 설치 (CUDA 필요):**\n",
    "```bash\n",
    "pip install faiss-gpu\n",
    "```"
   ]
  },
  {
   "cell_type": "markdown",
   "id": "113c4f41",
   "metadata": {},
   "source": [
    "**설치 확인:**"
   ]
  },
  {
   "cell_type": "code",
   "execution_count": 2,
   "id": "89bfa7c2",
   "metadata": {},
   "outputs": [
    {
     "name": "stdout",
     "output_type": "stream",
     "text": [
      "1.12.0\n"
     ]
    }
   ],
   "source": [
    "import faiss\n",
    "\n",
    "print(faiss.__version__)"
   ]
  },
  {
   "cell_type": "code",
   "execution_count": 3,
   "id": "1ce08563",
   "metadata": {},
   "outputs": [],
   "source": [
    "import numpy as np\n",
    "import faiss\n",
    "\n",
    "# 벡터 차원 설정\n",
    "d = 64  # 벡터 차원\n",
    "nb = 100000  # 데이터베이스 벡터 개수\n",
    "nq = 10000  # 쿼리 벡터 개수\n",
    "\n",
    "# 시드 설정 (재현 가능한 결과를 위해)\n",
    "np.random.seed(1234)\n",
    "\n",
    "# 데이터베이스 벡터 생성 (검색 대상)\n",
    "xb = np.random.random((nb, d)).astype(\"float32\")\n",
    "xb[:, 0] += np.arange(nb) / 1000.0\n",
    "\n",
    "# 쿼리 벡터 생성 (검색할 벡터들)\n",
    "xq = np.random.random((nq, d)).astype(\"float32\")\n",
    "xq[:, 0] += np.arange(nq) / 1000.0"
   ]
  },
  {
   "cell_type": "code",
   "execution_count": 4,
   "id": "52cc17cb",
   "metadata": {},
   "outputs": [
    {
     "name": "stdout",
     "output_type": "stream",
     "text": [
      "훈련 여부: True\n",
      "인덱스된 벡터 수: 100000\n",
      "처음 5개 쿼리의 가장 유사한 4개 벡터 ID:\n",
      "[[ 381  207  210  477]\n",
      " [ 526  911  142   72]\n",
      " [ 838  527 1290  425]\n",
      " [ 196  184  164  359]\n",
      " [ 526  377  120  425]]\n",
      "해당 거리값:\n",
      "[[6.815506  6.8894653 7.3956795 7.4290257]\n",
      " [6.6041145 6.679699  6.7209625 6.828682 ]\n",
      " [6.4703827 6.8578606 7.0043755 7.036564 ]\n",
      " [5.573681  6.4075394 7.1395187 7.355591 ]\n",
      " [5.409401  6.232216  6.4173393 6.5743713]]\n"
     ]
    }
   ],
   "source": [
    "# 인덱스 생성\n",
    "index = faiss.IndexFlatL2(d)\n",
    "\n",
    "# 인덱스 상태 확인\n",
    "print(f\"훈련 여부: {index.is_trained}\")  # True\n",
    "\n",
    "# 벡터를 인덱스에 추가\n",
    "index.add(xb)\n",
    "print(f\"인덱스된 벡터 수: {index.ntotal}\")  # 100000\n",
    "\n",
    "# 검색 수행\n",
    "k = 4  # 상위 4개 유사 벡터 찾기\n",
    "D, I = index.search(xq, k)\n",
    "\n",
    "print(\"처음 5개 쿼리의 가장 유사한 4개 벡터 ID:\")\n",
    "print(I[:5])\n",
    "print(\"해당 거리값:\")\n",
    "print(D[:5])"
   ]
  },
  {
   "cell_type": "code",
   "execution_count": 5,
   "id": "650bb23b",
   "metadata": {},
   "outputs": [
    {
     "name": "stdout",
     "output_type": "stream",
     "text": [
      "검색된 벡터 ID: [94 98 93]\n",
      "복원된 벡터 차원: (64,)\n"
     ]
    }
   ],
   "source": [
    "# 사용자 정의 ID 배열 생성\n",
    "ids = np.array([100, 99, 98, 97, 96, 95, 94, 93, 92, 91], dtype=\"int64\")\n",
    "vector_sample = np.random.random((10, d)).astype(\"float32\")\n",
    "\n",
    "# ID 매핑이 가능한 인덱스 생성\n",
    "index = faiss.IndexFlatL2(d)\n",
    "index = faiss.IndexIDMap2(index)\n",
    "\n",
    "# ID와 함께 벡터 추가\n",
    "index.add_with_ids(vector_sample, ids)\n",
    "\n",
    "# ID를 사용한 검색\n",
    "query_vector = np.random.random((1, d)).astype(\"float32\")\n",
    "D, I = index.search(query_vector, 3)\n",
    "print(f\"검색된 벡터 ID: {I[0]}\")  # 실제 ID 값들 출력\n",
    "\n",
    "# ID로 원본 벡터 복원\n",
    "original_vector = index.reconstruct(100)  # ID 100의 벡터 복원\n",
    "print(f\"복원된 벡터 차원: {original_vector.shape}\")"
   ]
  },
  {
   "cell_type": "code",
   "execution_count": 6,
   "id": "4c095252",
   "metadata": {},
   "outputs": [
    {
     "name": "stdout",
     "output_type": "stream",
     "text": [
      "로드된 인덱스 검색 결과: [94 98 93]\n"
     ]
    }
   ],
   "source": [
    "# 인덱스 저장\n",
    "faiss.write_index(index, \"my_index.faiss\")\n",
    "\n",
    "# 인덱스 로드\n",
    "loaded_index = faiss.read_index(\"my_index.faiss\")\n",
    "\n",
    "# 로드된 인덱스로 검색\n",
    "D, I = loaded_index.search(query_vector, 3)\n",
    "print(f\"로드된 인덱스 검색 결과: {I[0]}\")"
   ]
  },
  {
   "cell_type": "code",
   "execution_count": 7,
   "id": "6ecf1760",
   "metadata": {},
   "outputs": [],
   "source": [
    "# 내적(Inner Product) 기반 유사도 검색\n",
    "index_ip = faiss.IndexFlatIP(d)\n",
    "index_ip.add(xb)\n",
    "D, I = index_ip.search(xq, k)"
   ]
  },
  {
   "cell_type": "code",
   "execution_count": 8,
   "id": "fb4571de",
   "metadata": {},
   "outputs": [],
   "source": [
    "# 더 빠른 검색을 위한 클러스터링 기반 인덱스\n",
    "nlist = 100  # 클러스터 수\n",
    "quantizer = faiss.IndexFlatL2(d)\n",
    "index_ivf = faiss.IndexIVFFlat(quantizer, d, nlist)\n",
    "\n",
    "# 훈련 필요\n",
    "index_ivf.train(xb)\n",
    "index_ivf.add(xb)\n",
    "\n",
    "# 검색 매개변수 설정\n",
    "index_ivf.nprobe = 10  # 검색할 클러스터 수\n",
    "D, I = index_ivf.search(xq, k)"
   ]
  },
  {
   "cell_type": "code",
   "execution_count": 9,
   "id": "1c0072d9",
   "metadata": {},
   "outputs": [
    {
     "name": "stdout",
     "output_type": "stream",
     "text": [
      "가장 유사한 문서들:\n",
      "1. machine learning tutorial (거리: 19.4335)\n",
      "2. data science guide (거리: 20.4205)\n",
      "3. deep learning basics (거리: 23.2298)\n"
     ]
    }
   ],
   "source": [
    "# 가상의 텍스트 임베딩 데이터\n",
    "documents = [\n",
    "    \"machine learning tutorial\",\n",
    "    \"deep learning basics\",\n",
    "    \"python programming\",\n",
    "    \"data science guide\",\n",
    "    \"artificial intelligence\",\n",
    "]\n",
    "\n",
    "# 임베딩 벡터 (실제로는 사전 훈련된 모델 사용)\n",
    "embeddings = np.random.random((len(documents), 128)).astype(\"float32\")\n",
    "doc_ids = np.arange(len(documents)).astype(\"int64\")\n",
    "\n",
    "# 인덱스 생성 및 데이터 추가\n",
    "d = 128\n",
    "index = faiss.IndexFlatL2(d)\n",
    "index = faiss.IndexIDMap2(index)\n",
    "index.add_with_ids(embeddings, doc_ids)\n",
    "\n",
    "# 쿼리 임베딩으로 검색\n",
    "query_embedding = np.random.random((1, d)).astype(\"float32\")\n",
    "D, I = index.search(query_embedding, 3)\n",
    "\n",
    "print(\"가장 유사한 문서들:\")\n",
    "for i, doc_id in enumerate(I[0]):\n",
    "    print(f\"{i+1}. {documents[doc_id]} (거리: {D[0][i]:.4f})\")"
   ]
  },
  {
   "cell_type": "code",
   "execution_count": null,
   "id": "9629c6c1",
   "metadata": {},
   "outputs": [],
   "source": []
  }
 ],
 "metadata": {
  "kernelspec": {
   "display_name": ".venv (3.13.5)",
   "language": "python",
   "name": "python3"
  },
  "language_info": {
   "codemirror_mode": {
    "name": "ipython",
    "version": 3
   },
   "file_extension": ".py",
   "mimetype": "text/x-python",
   "name": "python",
   "nbconvert_exporter": "python",
   "pygments_lexer": "ipython3",
   "version": "3.13.5"
  }
 },
 "nbformat": 4,
 "nbformat_minor": 5
}
